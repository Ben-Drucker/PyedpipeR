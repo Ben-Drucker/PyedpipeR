{
 "cells": [
  {
   "cell_type": "code",
   "execution_count": 4,
   "metadata": {},
   "outputs": [],
   "source": [
    "### Magics\n",
    "%reload_ext autoreload\n",
    "%autoreload 2\n",
    "\n",
    "### Imports\n",
    "import copy, itertools, functools, numpy as np, pandas as pd, time, requests, io\n",
    "import re, os, sys, json, pickle, tqdm, collections, random, warnings, pprint, typing\n",
    "from scipy import stats\n",
    "from typing import Any\n",
    "\n",
    "### Matplotlib\n",
    "%config InlineBackend.figure_formats = [\"svg\"]\n",
    "%matplotlib inline\n",
    "\n",
    "import matplotlib.pyplot as plt\n",
    "from matplotlib import rcParams, figure\n",
    "rcParams[\"font.family\"] = \"Fira Code\"\n",
    "# rcParams[\"font.family\"] = \"Palatino\"\n",
    "rcParams[\"axes.titleweight\"] = \"bold\"\n",
    "rcParams[\"axes.labelsize\"] = \"large\"\n",
    "\n",
    "### Copy and Paste Tools\n",
    "# Skip cell: %%script false --no-raise-error"
   ]
  },
  {
   "cell_type": "code",
   "execution_count": 16,
   "metadata": {},
   "outputs": [],
   "source": [
    "import collections.abc\n",
    "\n",
    "\n",
    "def convert_default_args(default_args: list[Any] | Any):\n",
    "    r_args = []\n",
    "    singleton = False\n",
    "    if not isinstance(default_args, collections.abc.Collection):\n",
    "        default_args = [default_args]\n",
    "        singleton = True\n",
    "    for a in default_args:\n",
    "        conversion = None\n",
    "        if isinstance(a, str):\n",
    "            conversion = '\"a\"'\n",
    "        if isinstance(a, (int, float)):\n",
    "            conversion = f\"{a}\"\n",
    "        if isinstance(a, bool):\n",
    "            conversion = str(a).upper()\n",
    "        if a is None:\n",
    "            conversion = \"NULL\"\n",
    "        if isinstance(a, (tuple, list, set)):\n",
    "            conversion = f\"list({', '.join(convert_default_args(a))})\"\n",
    "        if isinstance(a, dict):\n",
    "            conversion = (\n",
    "                f\"list({', '.join([f'\"{k}\" = {convert_default_args(v)}' for k, v in a.items()])})\"\n",
    "            )\n",
    "\n",
    "        if conversion is None:\n",
    "            raise ValueError(f\"Unsupported default argument type for '{a}': {type(a)}\")\n",
    "\n",
    "        if singleton:\n",
    "            return conversion\n",
    "        else:\n",
    "            r_args.append(conversion)\n",
    "\n",
    "    return r_args"
   ]
  },
  {
   "cell_type": "code",
   "execution_count": 17,
   "metadata": {},
   "outputs": [],
   "source": [
    "test_args = [1, 2.0, \"a\", True, None, (1, 2), [1, 2], {1: 2, 3: 4}, {1, 2}, [((1, 2), 3)]]"
   ]
  },
  {
   "cell_type": "code",
   "execution_count": 18,
   "metadata": {},
   "outputs": [
    {
     "data": {
      "text/plain": [
       "['1',\n",
       " '2.0',\n",
       " '\"a\"',\n",
       " 'TRUE',\n",
       " 'NULL',\n",
       " 'list(1, 2)',\n",
       " 'list(1, 2)',\n",
       " 'list(\"1\" = 2, \"3\" = 4)',\n",
       " 'list(1, 2)',\n",
       " 'list(list(list(1, 2), 3))']"
      ]
     },
     "execution_count": 18,
     "metadata": {},
     "output_type": "execute_result"
    }
   ],
   "source": [
    "convert_default_args(test_args)"
   ]
  }
 ],
 "metadata": {
  "kernelspec": {
   "display_name": "3.13",
   "language": "python",
   "name": "python3"
  },
  "language_info": {
   "codemirror_mode": {
    "name": "ipython",
    "version": 3
   },
   "file_extension": ".py",
   "mimetype": "text/x-python",
   "name": "python",
   "nbconvert_exporter": "python",
   "pygments_lexer": "ipython3",
   "version": "3.13.1"
  }
 },
 "nbformat": 4,
 "nbformat_minor": 2
}
